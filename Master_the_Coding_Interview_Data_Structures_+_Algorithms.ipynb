{
  "nbformat": 4,
  "nbformat_minor": 0,
  "metadata": {
    "colab": {
      "provenance": [],
      "authorship_tag": "ABX9TyOFr50G0ZZxqkMQgM2TD8rp",
      "include_colab_link": true
    },
    "kernelspec": {
      "name": "python3",
      "display_name": "Python 3"
    },
    "language_info": {
      "name": "python"
    }
  },
  "cells": [
    {
      "cell_type": "markdown",
      "metadata": {
        "id": "view-in-github",
        "colab_type": "text"
      },
      "source": [
        "<a href=\"https://colab.research.google.com/github/NazaninSaadatMoghaddam1993/learning/blob/main/Master_the_Coding_Interview_Data_Structures_%2B_Algorithms.ipynb\" target=\"_parent\"><img src=\"https://colab.research.google.com/assets/colab-badge.svg\" alt=\"Open In Colab\"/></a>"
      ]
    },
    {
      "cell_type": "markdown",
      "source": [
        "###1.  given 2 arrays create a function that let user true/fause if two arrays have common elements.\n"
      ],
      "metadata": {
        "id": "-euTCFxeVKwb"
      }
    },
    {
      "cell_type": "markdown",
      "source": [
        " example 1 : arr1 = [ 'a' , 'h' , 'k' ]\n",
        " arr2 = [ 'm' , 'y' , 'w', 'u' , 'e' ]\n",
        " it should return fulse\n",
        "  \\\\\n",
        " example 2 : arr1 = [ 't' , 'i' , 'e' , 'u' ]\n",
        " arr2 = [ 't' , 's' , 'r'  ]\n",
        " it should return true \\\\\n",
        " inputs: 2 arrays ( no limit for size ) \\\\\n",
        " output: one boolian"
      ],
      "metadata": {
        "id": "OclGls9GV8Mj"
      }
    },
    {
      "cell_type": "markdown",
      "source": [
        "## big(O) of\\begin{equation} O(n^2)\\end{equation}"
      ],
      "metadata": {
        "id": "VviOIhPAaISV"
      }
    },
    {
      "cell_type": "code",
      "source": [
        "def commonitem(ar1,ar2):\n",
        "    for i in range(len(ar1)):\n",
        "        for j in range(len(ar2)):\n",
        "            if ar1[i]==ar2[j]:\n",
        "                return True\n",
        "    return False\n",
        "arr1 = [ 'a' , 'h' , 'k' ]\n",
        "arr2 = [ 'm' , 'y' , 'k', 'u' , 'e' ]\n",
        "commonitem(arr1,arr2)\n"
      ],
      "metadata": {
        "colab": {
          "base_uri": "https://localhost:8080/"
        },
        "id": "0gn5juIyV7v4",
        "outputId": "1e5e2676-728a-4df1-f049-640eff1d9edc"
      },
      "execution_count": null,
      "outputs": [
        {
          "output_type": "execute_result",
          "data": {
            "text/plain": [
              "True"
            ]
          },
          "metadata": {},
          "execution_count": 2
        }
      ]
    },
    {
      "cell_type": "markdown",
      "source": [
        "## big(O) of\\begin{equation} O(n)\\end{equation}"
      ],
      "metadata": {
        "id": "DobVwQDtjgSs"
      }
    },
    {
      "cell_type": "code",
      "execution_count": null,
      "metadata": {
        "colab": {
          "base_uri": "https://localhost:8080/"
        },
        "id": "4mB3MndBVFQx",
        "outputId": "122434b7-237b-43d4-baad-324b44e5c811"
      },
      "outputs": [
        {
          "output_type": "execute_result",
          "data": {
            "text/plain": [
              "True"
            ]
          },
          "metadata": {},
          "execution_count": 24
        }
      ],
      "source": [
        "def commonitem_1(ar1, ar2):\n",
        "    if ar1 is None or any(not x for x in ar1) and ar2 is None or any(not x for x in ar2):\n",
        "        return True\n",
        "    if ar1 is None or any(not x for x in ar1) or ar2 is None or any(not x for x in ar2):\n",
        "        return False\n",
        "    # Make set of first array for faster lookup\n",
        "    arr = set(ar1)\n",
        "    # Loop over other second array and search for common\n",
        "    for j in ar2:\n",
        "        if j in arr:\n",
        "            return True\n",
        "    return False\n",
        "arr1 = [ 'a' ,1 , [] ]\n",
        "arr2 = [ 'm' , 0, 'u' , 'e' ]\n",
        "commonitem_1(arr1,arr2)"
      ]
    },
    {
      "cell_type": "markdown",
      "source": [
        "## big(O) of\\begin{equation} O(1)\\end{equation}"
      ],
      "metadata": {
        "id": "P-HDdps8swhd"
      }
    },
    {
      "cell_type": "code",
      "source": [
        "def have_common_elements(arr1, arr2):\n",
        "    return any(x in arr2 for x in arr1)\n",
        "arr1 = [1, 2, 3, 4, 5]\n",
        "arr2 = [4, 5, 6, 7, 8]\n",
        "\n",
        "result = have_common_elements(arr1, arr2)\n",
        "print(result)"
      ],
      "metadata": {
        "colab": {
          "base_uri": "https://localhost:8080/"
        },
        "id": "qxQbpL8odmXl",
        "outputId": "10d44838-fece-40d4-e3c0-5b300aa287a2"
      },
      "execution_count": null,
      "outputs": [
        {
          "output_type": "stream",
          "name": "stdout",
          "text": [
            "True\n"
          ]
        }
      ]
    },
    {
      "cell_type": "markdown",
      "source": [
        "###2. code that say if sum of two elements of an array equal to target value that we have or we can't find any pair"
      ],
      "metadata": {
        "id": "FiNO_-Kp0g9N"
      }
    },
    {
      "cell_type": "markdown",
      "source": [
        "## big(o) of O(n)"
      ],
      "metadata": {
        "id": "zzZe4ahF0MGX"
      }
    },
    {
      "cell_type": "code",
      "source": [
        "def lookingforsum(arr,target):\n",
        "    set_arr = set(arr)\n",
        "    for i in (arr):\n",
        "        if abs(target-i) in set_arr:\n",
        "            return True\n",
        "    return False\n",
        "arr1 = [1, 2, 3, 4, 5]\n",
        "lookingforsum(arr1,5)"
      ],
      "metadata": {
        "colab": {
          "base_uri": "https://localhost:8080/"
        },
        "id": "tESAg0h1s-vV",
        "outputId": "6ea3c778-8066-4201-878c-1beb3c67bd51"
      },
      "execution_count": null,
      "outputs": [
        {
          "output_type": "execute_result",
          "data": {
            "text/plain": [
              "True"
            ]
          },
          "metadata": {},
          "execution_count": 27
        }
      ]
    },
    {
      "cell_type": "markdown",
      "source": [
        "## reverse an string"
      ],
      "metadata": {
        "id": "KIf2qNnJdda3"
      }
    },
    {
      "cell_type": "code",
      "source": [
        "class array_maker:\n",
        "    def __init__(self):\n",
        "        self.length = 0\n",
        "        self.data = {}\n",
        "    def get(self,index):\n",
        "        return self.data[index]\n",
        "    def push(self,item):\n",
        "        self.data[self.length]=item\n",
        "\n",
        "array_maker.get(0)\n"
      ],
      "metadata": {
        "id": "v_7baj8A0BEm",
        "colab": {
          "base_uri": "https://localhost:8080/",
          "height": 211
        },
        "outputId": "dde08c98-9d8e-43ef-de07-200986059ffd"
      },
      "execution_count": null,
      "outputs": [
        {
          "output_type": "error",
          "ename": "TypeError",
          "evalue": "ignored",
          "traceback": [
            "\u001b[0;31m---------------------------------------------------------------------------\u001b[0m",
            "\u001b[0;31mTypeError\u001b[0m                                 Traceback (most recent call last)",
            "\u001b[0;32m<ipython-input-21-edc083293bb2>\u001b[0m in \u001b[0;36m<cell line: 10>\u001b[0;34m()\u001b[0m\n\u001b[1;32m      8\u001b[0m         \u001b[0mself\u001b[0m\u001b[0;34m.\u001b[0m\u001b[0mdata\u001b[0m\u001b[0;34m[\u001b[0m\u001b[0mself\u001b[0m\u001b[0;34m.\u001b[0m\u001b[0mlength\u001b[0m\u001b[0;34m]\u001b[0m\u001b[0;34m=\u001b[0m\u001b[0mself\u001b[0m\u001b[0;34m.\u001b[0m\u001b[0mitem\u001b[0m\u001b[0;34m\u001b[0m\u001b[0;34m\u001b[0m\u001b[0m\n\u001b[1;32m      9\u001b[0m \u001b[0;34m\u001b[0m\u001b[0m\n\u001b[0;32m---> 10\u001b[0;31m \u001b[0marray_maker\u001b[0m\u001b[0;34m.\u001b[0m\u001b[0mget\u001b[0m\u001b[0;34m(\u001b[0m\u001b[0;36m0\u001b[0m\u001b[0;34m)\u001b[0m\u001b[0;34m\u001b[0m\u001b[0;34m\u001b[0m\u001b[0m\n\u001b[0m",
            "\u001b[0;31mTypeError\u001b[0m: array_maker.get() missing 1 required positional argument: 'index'"
          ]
        }
      ]
    },
    {
      "cell_type": "code",
      "source": [
        "def str_rev(s):\n",
        "    if isinstance(s, str)==False:\n",
        "        return('it is not a string')\n",
        "    ar = list(reversed(s))\n",
        "    return ''.join(ar)\n",
        "str_rev(\"jiwmv;d,fpm lf\")"
      ],
      "metadata": {
        "id": "uLQfy8-q9NYc",
        "colab": {
          "base_uri": "https://localhost:8080/",
          "height": 35
        },
        "outputId": "b772fb06-3bfd-46bf-9b68-f7f37e23f6eb"
      },
      "execution_count": null,
      "outputs": [
        {
          "output_type": "execute_result",
          "data": {
            "text/plain": [
              "'fl mpf,d;vmwij'"
            ],
            "application/vnd.google.colaboratory.intrinsic+json": {
              "type": "string"
            }
          },
          "metadata": {},
          "execution_count": 59
        }
      ]
    },
    {
      "cell_type": "markdown",
      "source": [
        "## merging"
      ],
      "metadata": {
        "id": "dwqOqunKdWue"
      }
    },
    {
      "cell_type": "code",
      "source": [
        "def merger1(ar1,ar2):\n",
        "    if ar1 ==[]:\n",
        "        return sorted(ar2)\n",
        "    if ar2==[]:\n",
        "        return sorted(ar1)\n",
        "    arr = ar1+ar2\n",
        "    arr = sorted(arr)\n",
        "    return arr\n",
        "merger1([3,7,8,9,1,3],[8,9,11,6])"
      ],
      "metadata": {
        "id": "ZUjmwjAK287e",
        "colab": {
          "base_uri": "https://localhost:8080/"
        },
        "outputId": "436de299-6d94-42ba-8753-d3840f36f722"
      },
      "execution_count": null,
      "outputs": [
        {
          "output_type": "execute_result",
          "data": {
            "text/plain": [
              "[1, 3, 3, 6, 7, 8, 8, 9, 9, 11]"
            ]
          },
          "metadata": {},
          "execution_count": 1
        }
      ]
    },
    {
      "cell_type": "code",
      "source": [
        "def merger2(ar1, ar2):\n",
        "    if ar1 == []:\n",
        "        return ar2\n",
        "    if ar2 == []:\n",
        "        return ar1\n",
        "\n",
        "    arr = []\n",
        "    i = j = 0\n",
        "\n",
        "    while i < len(ar1) and j < len(ar2):\n",
        "        if ar1[i] < ar2[j]:\n",
        "            arr.append(ar1[i])\n",
        "            i += 1\n",
        "        else:\n",
        "            arr.append(ar2[j])\n",
        "            j += 1\n",
        "\n",
        "    # Append the remaining elements from either ar1 or ar2\n",
        "    arr.extend(ar1[i:])\n",
        "    arr.extend(ar2[j:])\n",
        "\n",
        "    return arr\n",
        "\n",
        "result = merger2([7, 8, 9, 11, 13], [5, 9, 11, 16])\n",
        "print(result)\n",
        "\n"
      ],
      "metadata": {
        "id": "a0ragi7n4MHU",
        "colab": {
          "base_uri": "https://localhost:8080/"
        },
        "outputId": "ef3dcbe6-1606-47e0-ec40-bde745184d61"
      },
      "execution_count": null,
      "outputs": [
        {
          "output_type": "stream",
          "name": "stdout",
          "text": [
            "[5, 7, 8, 9, 9, 11, 11, 13, 16]\n"
          ]
        }
      ]
    },
    {
      "cell_type": "markdown",
      "source": [
        "## hashtables"
      ],
      "metadata": {
        "id": "cAMIYeqfdlCC"
      }
    },
    {
      "cell_type": "code",
      "source": [],
      "metadata": {
        "id": "qPZyVOCw4QBW"
      },
      "execution_count": null,
      "outputs": []
    }
  ]
}